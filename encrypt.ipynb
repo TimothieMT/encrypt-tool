{
 "cells": [
  {
   "cell_type": "code",
   "execution_count": null,
   "metadata": {
    "collapsed": true,
    "pycharm": {
     "name": "#%%\n",
     "is_executing": true
    }
   },
   "outputs": [],
   "source": [
    "import random\n",
    "import hashlib\n",
    "\n",
    "\n",
    "def hashing():\n",
    "    password = input('password: ')\n",
    "    salt = f\"{random.getrandbits(128):16x}\"\n",
    "    hashvalue = hashlib.sha512(password.encode() + salt.encode()).hexdigest()\n",
    "    print(f\"{salt}:{hashvalue}\")\n",
    "\n",
    "\n",
    "hashing()"
   ]
  }
 ],
 "metadata": {
  "kernelspec": {
   "display_name": "Python 3",
   "language": "python",
   "name": "python3"
  },
  "language_info": {
   "codemirror_mode": {
    "name": "ipython",
    "version": 2
   },
   "file_extension": ".py",
   "mimetype": "text/x-python",
   "name": "python",
   "nbconvert_exporter": "python",
   "pygments_lexer": "ipython2",
   "version": "2.7.6"
  }
 },
 "nbformat": 4,
 "nbformat_minor": 0
}